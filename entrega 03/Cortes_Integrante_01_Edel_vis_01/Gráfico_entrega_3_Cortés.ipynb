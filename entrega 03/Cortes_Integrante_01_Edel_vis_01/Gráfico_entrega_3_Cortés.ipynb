{
  "nbformat": 4,
  "nbformat_minor": 0,
  "metadata": {
    "colab": {
      "provenance": []
    },
    "kernelspec": {
      "name": "python3",
      "display_name": "Python 3"
    },
    "language_info": {
      "name": "python"
    }
  },
  "cells": [
    {
      "cell_type": "code",
      "execution_count": 3,
      "metadata": {
        "colab": {
          "base_uri": "https://localhost:8080/",
          "height": 348
        },
        "id": "8af30LLsRDnL",
        "outputId": "9b621d77-2e4c-4b00-bde6-07f84dd451b0"
      },
      "outputs": [
        {
          "output_type": "execute_result",
          "data": {
            "text/html": [
              "\n",
              "<style>\n",
              "  #altair-viz-f288d58286ce49b3965f9feed3b6901c.vega-embed {\n",
              "    width: 100%;\n",
              "    display: flex;\n",
              "  }\n",
              "\n",
              "  #altair-viz-f288d58286ce49b3965f9feed3b6901c.vega-embed details,\n",
              "  #altair-viz-f288d58286ce49b3965f9feed3b6901c.vega-embed details summary {\n",
              "    position: relative;\n",
              "  }\n",
              "</style>\n",
              "<div id=\"altair-viz-f288d58286ce49b3965f9feed3b6901c\"></div>\n",
              "<script type=\"text/javascript\">\n",
              "  var VEGA_DEBUG = (typeof VEGA_DEBUG == \"undefined\") ? {} : VEGA_DEBUG;\n",
              "  (function(spec, embedOpt){\n",
              "    let outputDiv = document.currentScript.previousElementSibling;\n",
              "    if (outputDiv.id !== \"altair-viz-f288d58286ce49b3965f9feed3b6901c\") {\n",
              "      outputDiv = document.getElementById(\"altair-viz-f288d58286ce49b3965f9feed3b6901c\");\n",
              "    }\n",
              "\n",
              "    const paths = {\n",
              "      \"vega\": \"https://cdn.jsdelivr.net/npm/vega@5?noext\",\n",
              "      \"vega-lib\": \"https://cdn.jsdelivr.net/npm/vega-lib?noext\",\n",
              "      \"vega-lite\": \"https://cdn.jsdelivr.net/npm/vega-lite@5.20.1?noext\",\n",
              "      \"vega-embed\": \"https://cdn.jsdelivr.net/npm/vega-embed@6?noext\",\n",
              "    };\n",
              "\n",
              "    function maybeLoadScript(lib, version) {\n",
              "      var key = `${lib.replace(\"-\", \"\")}_version`;\n",
              "      return (VEGA_DEBUG[key] == version) ?\n",
              "        Promise.resolve(paths[lib]) :\n",
              "        new Promise(function(resolve, reject) {\n",
              "          var s = document.createElement('script');\n",
              "          document.getElementsByTagName(\"head\")[0].appendChild(s);\n",
              "          s.async = true;\n",
              "          s.onload = () => {\n",
              "            VEGA_DEBUG[key] = version;\n",
              "            return resolve(paths[lib]);\n",
              "          };\n",
              "          s.onerror = () => reject(`Error loading script: ${paths[lib]}`);\n",
              "          s.src = paths[lib];\n",
              "        });\n",
              "    }\n",
              "\n",
              "    function showError(err) {\n",
              "      outputDiv.innerHTML = `<div class=\"error\" style=\"color:red;\">${err}</div>`;\n",
              "      throw err;\n",
              "    }\n",
              "\n",
              "    function displayChart(vegaEmbed) {\n",
              "      vegaEmbed(outputDiv, spec, embedOpt)\n",
              "        .catch(err => showError(`Javascript Error: ${err.message}<br>This usually means there's a typo in your chart specification. See the javascript console for the full traceback.`));\n",
              "    }\n",
              "\n",
              "    if(typeof define === \"function\" && define.amd) {\n",
              "      requirejs.config({paths});\n",
              "      let deps = [\"vega-embed\"];\n",
              "      require(deps, displayChart, err => showError(`Error loading script: ${err.message}`));\n",
              "    } else {\n",
              "      maybeLoadScript(\"vega\", \"5\")\n",
              "        .then(() => maybeLoadScript(\"vega-lite\", \"5.20.1\"))\n",
              "        .then(() => maybeLoadScript(\"vega-embed\", \"6\"))\n",
              "        .catch(showError)\n",
              "        .then(() => displayChart(vegaEmbed));\n",
              "    }\n",
              "  })({\"config\": {\"view\": {\"continuousWidth\": 300, \"continuousHeight\": 300}}, \"data\": {\"name\": \"data-b393a90febe191d10158bc2a1f848162\"}, \"mark\": {\"type\": \"arc\", \"innerRadius\": 50}, \"encoding\": {\"color\": {\"field\": \"Genero\", \"scale\": {\"range\": [\"#520570\", \"#72079C\", \"#9209C8\"]}, \"type\": \"nominal\"}, \"theta\": {\"field\": \"Cantidad\", \"type\": \"quantitative\"}, \"tooltip\": [{\"field\": \"Genero\", \"type\": \"nominal\"}, {\"field\": \"Cantidad\", \"type\": \"quantitative\"}]}, \"title\": \"Cantante por g\\u00e9nero en Vi\\u00f1a del mar\", \"$schema\": \"https://vega.github.io/schema/vega-lite/v5.20.1.json\", \"datasets\": {\"data-b393a90febe191d10158bc2a1f848162\": [{\"Genero\": \"Hombres\", \"Cantidad\": 626}, {\"Genero\": \"Mujeres\", \"Cantidad\": 159}, {\"Genero\": \"Mixto\", \"Cantidad\": 67}]}}, {\"mode\": \"vega-lite\"});\n",
              "</script>"
            ],
            "text/plain": [
              "alt.Chart(...)"
            ]
          },
          "metadata": {},
          "execution_count": 3
        }
      ],
      "source": [
        "import altair as alt\n",
        "import pandas as pd\n",
        "\n",
        "data = pd.DataFrame({\n",
        "    'Genero': ['Hombres', 'Mujeres', 'Mixto'],\n",
        "    'Cantidad': [626, 159, 67]\n",
        "})\n",
        "\n",
        "chart = alt.Chart(data).mark_arc(innerRadius=50).encode(\n",
        "    theta=alt.Theta(field='Cantidad', type='quantitative'),\n",
        "    color=alt.Color(field='Genero', type='nominal',\n",
        "                    scale=alt.Scale(range=['#520570', '#72079C', '#9209C8'])),\n",
        "    tooltip=['Genero', 'Cantidad']\n",
        ").properties(\n",
        "    title='Cantante por género en Viña del mar'\n",
        ")\n",
        "\n",
        "chart\n",
        "\n"
      ]
    }
  ]
}