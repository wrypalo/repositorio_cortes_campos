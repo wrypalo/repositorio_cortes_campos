{
  "nbformat": 4,
  "nbformat_minor": 0,
  "metadata": {
    "colab": {
      "provenance": []
    },
    "kernelspec": {
      "name": "python3",
      "display_name": "Python 3"
    },
    "language_info": {
      "name": "python"
    }
  },
  "cells": [
    {
      "cell_type": "code",
      "execution_count": 4,
      "metadata": {
        "colab": {
          "base_uri": "https://localhost:8080/",
          "height": 398
        },
        "id": "fYQzdtPraTtb",
        "outputId": "ea5c68dd-844c-4980-e4c3-6f83a8cfc095"
      },
      "outputs": [
        {
          "output_type": "display_data",
          "data": {
            "text/html": [
              "\n",
              "<style>\n",
              "  #altair-viz-b6b25ecbea454f9faa20e3a55c532124.vega-embed {\n",
              "    width: 100%;\n",
              "    display: flex;\n",
              "  }\n",
              "\n",
              "  #altair-viz-b6b25ecbea454f9faa20e3a55c532124.vega-embed details,\n",
              "  #altair-viz-b6b25ecbea454f9faa20e3a55c532124.vega-embed details summary {\n",
              "    position: relative;\n",
              "  }\n",
              "</style>\n",
              "<div id=\"altair-viz-b6b25ecbea454f9faa20e3a55c532124\"></div>\n",
              "<script type=\"text/javascript\">\n",
              "  var VEGA_DEBUG = (typeof VEGA_DEBUG == \"undefined\") ? {} : VEGA_DEBUG;\n",
              "  (function(spec, embedOpt){\n",
              "    let outputDiv = document.currentScript.previousElementSibling;\n",
              "    if (outputDiv.id !== \"altair-viz-b6b25ecbea454f9faa20e3a55c532124\") {\n",
              "      outputDiv = document.getElementById(\"altair-viz-b6b25ecbea454f9faa20e3a55c532124\");\n",
              "    }\n",
              "\n",
              "    const paths = {\n",
              "      \"vega\": \"https://cdn.jsdelivr.net/npm/vega@5?noext\",\n",
              "      \"vega-lib\": \"https://cdn.jsdelivr.net/npm/vega-lib?noext\",\n",
              "      \"vega-lite\": \"https://cdn.jsdelivr.net/npm/vega-lite@5.20.1?noext\",\n",
              "      \"vega-embed\": \"https://cdn.jsdelivr.net/npm/vega-embed@6?noext\",\n",
              "    };\n",
              "\n",
              "    function maybeLoadScript(lib, version) {\n",
              "      var key = `${lib.replace(\"-\", \"\")}_version`;\n",
              "      return (VEGA_DEBUG[key] == version) ?\n",
              "        Promise.resolve(paths[lib]) :\n",
              "        new Promise(function(resolve, reject) {\n",
              "          var s = document.createElement('script');\n",
              "          document.getElementsByTagName(\"head\")[0].appendChild(s);\n",
              "          s.async = true;\n",
              "          s.onload = () => {\n",
              "            VEGA_DEBUG[key] = version;\n",
              "            return resolve(paths[lib]);\n",
              "          };\n",
              "          s.onerror = () => reject(`Error loading script: ${paths[lib]}`);\n",
              "          s.src = paths[lib];\n",
              "        });\n",
              "    }\n",
              "\n",
              "    function showError(err) {\n",
              "      outputDiv.innerHTML = `<div class=\"error\" style=\"color:red;\">${err}</div>`;\n",
              "      throw err;\n",
              "    }\n",
              "\n",
              "    function displayChart(vegaEmbed) {\n",
              "      vegaEmbed(outputDiv, spec, embedOpt)\n",
              "        .catch(err => showError(`Javascript Error: ${err.message}<br>This usually means there's a typo in your chart specification. See the javascript console for the full traceback.`));\n",
              "    }\n",
              "\n",
              "    if(typeof define === \"function\" && define.amd) {\n",
              "      requirejs.config({paths});\n",
              "      let deps = [\"vega-embed\"];\n",
              "      require(deps, displayChart, err => showError(`Error loading script: ${err.message}`));\n",
              "    } else {\n",
              "      maybeLoadScript(\"vega\", \"5\")\n",
              "        .then(() => maybeLoadScript(\"vega-lite\", \"5.20.1\"))\n",
              "        .then(() => maybeLoadScript(\"vega-embed\", \"6\"))\n",
              "        .catch(showError)\n",
              "        .then(() => displayChart(vegaEmbed));\n",
              "    }\n",
              "  })({\"config\": {\"view\": {\"continuousWidth\": 300, \"continuousHeight\": 300}}, \"data\": {\"name\": \"data-1b58d3c835ec51b58ce39c855dfb029c\"}, \"mark\": {\"type\": \"area\", \"color\": {\"gradient\": \"linear\", \"stops\": [{\"color\": \"white\", \"offset\": 0}, {\"color\": \"#72079C\", \"offset\": 1}], \"x1\": 1, \"x2\": 1, \"y1\": 1, \"y2\": 0}, \"line\": {\"color\": \"#520570\"}}, \"encoding\": {\"color\": {\"field\": \"Premio\", \"scale\": {\"range\": [\"#520570\", \"#9209C8\"]}, \"type\": \"nominal\"}, \"x\": {\"field\": \"A\\u00f1o\", \"title\": \"A\\u00f1o\", \"type\": \"ordinal\"}, \"y\": {\"field\": \"Cantidad\", \"title\": \"Cantidad de Premios\", \"type\": \"quantitative\"}}, \"title\": \"Evoluci\\u00f3n de entrega de premios por a\\u00f1o\", \"$schema\": \"https://vega.github.io/schema/vega-lite/v5.20.1.json\", \"datasets\": {\"data-1b58d3c835ec51b58ce39c855dfb029c\": [{\"A\\u00f1o\": 2002, \"Premio\": \"Gaviotas\", \"Cantidad\": 28.0}, {\"A\\u00f1o\": 2003, \"Premio\": \"Gaviotas\", \"Cantidad\": 20.0}, {\"A\\u00f1o\": 2004, \"Premio\": \"Gaviotas\", \"Cantidad\": 25.0}, {\"A\\u00f1o\": 2005, \"Premio\": \"Gaviotas\", \"Cantidad\": 22.0}, {\"A\\u00f1o\": 2006, \"Premio\": \"Gaviotas\", \"Cantidad\": 18.0}, {\"A\\u00f1o\": 2007, \"Premio\": \"Gaviotas\", \"Cantidad\": 16.0}, {\"A\\u00f1o\": 2008, \"Premio\": \"Gaviotas\", \"Cantidad\": 16.0}, {\"A\\u00f1o\": 2009, \"Premio\": \"Gaviotas\", \"Cantidad\": 15.0}, {\"A\\u00f1o\": 2010, \"Premio\": \"Gaviotas\", \"Cantidad\": 10.0}, {\"A\\u00f1o\": 2011, \"Premio\": \"Gaviotas\", \"Cantidad\": 14.0}, {\"A\\u00f1o\": 2012, \"Premio\": \"Gaviotas\", \"Cantidad\": 16.0}, {\"A\\u00f1o\": 2013, \"Premio\": \"Gaviotas\", \"Cantidad\": 16.0}, {\"A\\u00f1o\": 2014, \"Premio\": \"Gaviotas\", \"Cantidad\": 17.0}, {\"A\\u00f1o\": 2015, \"Premio\": \"Gaviotas\", \"Cantidad\": 15.0}, {\"A\\u00f1o\": 2016, \"Premio\": \"Gaviotas\", \"Cantidad\": 12.0}, {\"A\\u00f1o\": 2017, \"Premio\": \"Gaviotas\", \"Cantidad\": 14.0}, {\"A\\u00f1o\": 2018, \"Premio\": \"Gaviotas\", \"Cantidad\": 13.0}, {\"A\\u00f1o\": 2019, \"Premio\": \"Gaviotas\", \"Cantidad\": 13.0}, {\"A\\u00f1o\": 2020, \"Premio\": \"Gaviotas\", \"Cantidad\": 13.0}, {\"A\\u00f1o\": 2023, \"Premio\": \"Gaviotas\", \"Cantidad\": 12.0}, {\"A\\u00f1o\": 2024, \"Premio\": \"Gaviotas\", \"Cantidad\": 12.0}, {\"A\\u00f1o\": 2025, \"Premio\": \"Gaviotas\", \"Cantidad\": 13.0}, {\"A\\u00f1o\": 2002, \"Premio\": \"Antorchas\", \"Cantidad\": 28.0}, {\"A\\u00f1o\": 2003, \"Premio\": \"Antorchas\", \"Cantidad\": 20.0}, {\"A\\u00f1o\": 2004, \"Premio\": \"Antorchas\", \"Cantidad\": 25.0}, {\"A\\u00f1o\": 2005, \"Premio\": \"Antorchas\", \"Cantidad\": 22.0}, {\"A\\u00f1o\": 2006, \"Premio\": \"Antorchas\", \"Cantidad\": 18.0}, {\"A\\u00f1o\": 2007, \"Premio\": \"Antorchas\", \"Cantidad\": 16.0}, {\"A\\u00f1o\": 2008, \"Premio\": \"Antorchas\", \"Cantidad\": 16.0}, {\"A\\u00f1o\": 2009, \"Premio\": \"Antorchas\", \"Cantidad\": 15.0}, {\"A\\u00f1o\": 2010, \"Premio\": \"Antorchas\", \"Cantidad\": 10.0}, {\"A\\u00f1o\": 2011, \"Premio\": \"Antorchas\", \"Cantidad\": 14.0}, {\"A\\u00f1o\": 2012, \"Premio\": \"Antorchas\", \"Cantidad\": 16.0}, {\"A\\u00f1o\": 2013, \"Premio\": \"Antorchas\", \"Cantidad\": 16.0}, {\"A\\u00f1o\": 2014, \"Premio\": \"Antorchas\", \"Cantidad\": 17.0}, {\"A\\u00f1o\": 2015, \"Premio\": \"Antorchas\", \"Cantidad\": null}, {\"A\\u00f1o\": 2016, \"Premio\": \"Antorchas\", \"Cantidad\": null}, {\"A\\u00f1o\": 2017, \"Premio\": \"Antorchas\", \"Cantidad\": null}, {\"A\\u00f1o\": 2018, \"Premio\": \"Antorchas\", \"Cantidad\": null}, {\"A\\u00f1o\": 2019, \"Premio\": \"Antorchas\", \"Cantidad\": null}, {\"A\\u00f1o\": 2020, \"Premio\": \"Antorchas\", \"Cantidad\": null}, {\"A\\u00f1o\": 2023, \"Premio\": \"Antorchas\", \"Cantidad\": null}, {\"A\\u00f1o\": 2024, \"Premio\": \"Antorchas\", \"Cantidad\": null}, {\"A\\u00f1o\": 2025, \"Premio\": \"Antorchas\", \"Cantidad\": null}]}}, {\"mode\": \"vega-lite\"});\n",
              "</script>"
            ],
            "text/plain": [
              "alt.Chart(...)"
            ]
          },
          "metadata": {}
        }
      ],
      "source": [
        "import altair as alt\n",
        "import pandas as pd\n",
        "import numpy as np\n",
        "\n",
        "data = pd.DataFrame({\n",
        "    'Año': [2002,2003,2004,2005,2006,2007,2008,2009,2010,2011,2012,2013,2014,2015,2016,2017,2018,2019,2020,2023,2024,2025],\n",
        "    'Gaviotas': [28,20,25,22,18,16,16,15,10,14,16,16,17,15,12,14,13,13,13,12,12,13],\n",
        "    'Antorchas': [28,20,25,22,18,16,16,15,10,14,16,16,17] + [np.nan] * (22 - 13)\n",
        "})\n",
        "\n",
        "data_long = data.melt(id_vars=['Año'], value_vars=['Gaviotas','Antorchas'],\n",
        "                      var_name='Premio', value_name='Cantidad')\n",
        "\n",
        "chart = alt.Chart(data_long).mark_area(\n",
        "    line={'color':'#520570'},\n",
        "    color=alt.Gradient(\n",
        "        gradient='linear',\n",
        "        stops=[alt.GradientStop(color='white', offset=0),\n",
        "               alt.GradientStop(color='#72079C', offset=1)],\n",
        "        x1=1,\n",
        "        x2=1,\n",
        "        y1=1,\n",
        "        y2=0\n",
        "    )\n",
        ").encode(\n",
        "    x=alt.X('Año:O', title='Año'),\n",
        "    y=alt.Y('Cantidad:Q', title='Cantidad de Premios'),\n",
        "    color=alt.Color('Premio:N',\n",
        "                    scale=alt.Scale(range=['#520570','#9209C8']))\n",
        ").properties(\n",
        "    title='Evolución de entrega de premios por año'\n",
        ")\n",
        "\n",
        "chart.display()"
      ]
    }
  ]
}